{
 "cells": [
  {
   "cell_type": "markdown",
   "metadata": {},
   "source": [
    "## Learning the BS formula\n",
    "**Assignment**: Learning the BS formula\n",
    "$$\n",
    "V = S_tN(d_1) - Ke^{-r\\tau}N(d_2)\n",
    "$$\n",
    "with a small fully-connect neural network. \n",
    "\n",
    "Here \n",
    "$$\n",
    "d_1 = \\frac{1}{\\sigma \\sqrt{T-t}}\n",
    "\\left[ \n",
    "\\ln \\frac{S_t}{K} + (r+\\frac{\\sigma^2}{2})(T-t)\n",
    "\\right]\n",
    "$$\n",
    "and $\\mathbf{N}$ is the cumulative distribution funciton of a normal distribution.\n",
    "\n",
    "For this exercise, we shall use Tensorflow to build a network and train it. Install this package by following the guide: https://www.tensorflow.org/install.\n",
    "\n",
    "Try the basic example of using Tensorflow by following the guide: https://www.tensorflow.org/tutorials/keras/classification\n",
    "\n",
    "**a) Simulation**\n",
    "\n",
    "For the sake of reproducibility, we fix the seed to 42.\n",
    "\n",
    "Simulate ten thousand samples independently for each of $S, K, \\sigma$ and $\\tau$, such that $S_i$ and $K_i$ follow uniform $U(50, 150)$, $\\sigma_i$ follows $U(0.1, 0.3)$, and $\\tau$ follows $U(0., 0.5)$.\n",
    "\n",
    "**b) Calculate $\\hat{V}_i$ by BS formula**\n",
    "\n",
    "**c) Split the dataset into training and test sets, with a ratio of 8:2**\n",
    "\n",
    "**d) Build a shallow neural network that has a hidden layer with 10 nodes.**\n",
    "Use RELU activation function for the hidden layer by default. You may also play with whatever you want. Since the output is option price which must be positive, we better use RELU that gives positive values.\n",
    "\n",
    "**e) Train this model and plot the loss curve. Is this network well trained?**\n",
    "\n",
    "**f) Standardize data before training a network.**\n",
    "\n",
    "If not, think about why and how to deal with it.\n",
    "\n",
    "Read the following article:\n",
    "1. https://machinelearningmastery.com/how-to-improve-neural-network-stability-and-modeling-performance-with-data-scaling/\n",
    "2. https://builtin.com/data-science/when-and-why-standardize-your-data\n",
    "\n",
    "Or this simpler one: https://towardsdatascience.com/how-and-why-to-standardize-your-data-996926c2c832\n"
   ]
  },
  {
   "cell_type": "code",
   "execution_count": 1,
   "metadata": {},
   "outputs": [],
   "source": [
    "import sklearn\n",
    "import tensorflow as tf\n",
    "from tensorflow import keras\n",
    "import numpy as np\n",
    "import matplotlib.pyplot as plt\n",
    "from scipy.stats import norm\n",
    "from sklearn.model_selection import train_test_split\n",
    "from sklearn.preprocessing import StandardScaler\n",
    "\n",
    "# fix the random seed because we want reproducible results，and set the random seed for numpy\n",
    "seed = 42\n",
    "np.random.seed(seed)"
   ]
  },
  {
   "cell_type": "markdown",
   "metadata": {},
   "source": []
  },
  {
   "cell_type": "code",
   "execution_count": 42,
   "metadata": {},
   "outputs": [],
   "source": [
    "def bs_price(S, K, sigma, tau, r=0.):\n",
    "    \"\"\"\n",
    "    This function implements the Black-Scholes formula.\n",
    "    Args:\n",
    "        S (array): stock price\n",
    "        K (array): strike price\n",
    "        sigma (array): volatility\n",
    "        tau (array): time-to-maturity\n",
    "        r (float): interest rate. Defaults to 0..\n",
    "\n",
    "    Returns:\n",
    "        C (array): option price\n",
    "    \"\"\"\n",
    "    d1 = (np.log(S/K) + (r + 0.5 * sigma**2) * tau) / (sigma * np.sqrt(tau))\n",
    "    d2 = d1 - sigma * np.sqrt(tau)\n",
    "    C = S * norm.cdf(d1) - K * np.exp(-r * tau) * norm.cdf(d2)\n",
    "    return C\n",
    "\n",
    "def creat_data(N):\n",
    "    \"\"\"\n",
    "    In order pass the test, the input to networks should be an array of four features, \n",
    "    $(S, K, \\sigma, \\tau)$, and the output is the price of option, a one dimensional array.\n",
    "    Returns:\n",
    "        X: 4 dimensional array $(S, K, \\sigma, \\tau)$. Shape=(number of samples, 4)\n",
    "        C: 1 dimensional, option price. Shape=(number of samples, 1)\n",
    "    \"\"\"\n",
    "    # generate the data\n",
    "    S = np.random.uniform(5, 10, N)\n",
    "    K = np.random.uniform(5, 10, N)\n",
    "    sigma = np.random.uniform(0.2, 0.5, N)\n",
    "    tau = np.random.uniform(0.25, 1, N)\n",
    "    r = 0.01\n",
    "    C = bs_price(S, K, sigma, tau, r)\n",
    "    X = np.stack((S, K, sigma, tau), axis=1)\n",
    "    N = 2000 # number of sample \n",
    "#the feature number is 4\n",
    "    return X, C"
   ]
  },
  {
   "cell_type": "code",
   "execution_count": 47,
   "metadata": {},
   "outputs": [],
   "source": [
    "\"\"\"\"\"\n",
    "#define the S\n",
    "S = np.random.uniform(5, 10, N)\n",
    "#define the X\n",
    "X = np.stack((S, K, sigma, tau), axis=1)\n",
    "\n",
    "\"\"\"\n",
    "#Create the data\n",
    "N=2000\n",
    "S = np.random.uniform(5, 10, N)\n",
    "X, C = creat_data(N)\n",
    "#define the X_train, X_test, y_train, y_test,#split the dataset into train and test,with ratio 0.8:0.2\n",
    "X_train, X_test, y_train, y_test = train_test_split(X, C, test_size=0.2, random_state=42)\n"
   ]
  },
  {
   "cell_type": "code",
   "execution_count": 51,
   "metadata": {},
   "outputs": [
    {
     "name": "stdout",
     "output_type": "stream",
     "text": [
      "INFO:tensorflow:Assets written to: my_model\\assets\n"
     ]
    },
    {
     "name": "stderr",
     "output_type": "stream",
     "text": [
      "INFO:tensorflow:Assets written to: my_model\\assets\n"
     ]
    }
   ],
   "source": [
    "\"\"\"\n",
    "Use a layer fully-connect network to fit on the train data.\n",
    "Save your model with model.save('my_model')\n",
    "\"\"\"\n",
    "model = keras.Sequential([\n",
    "    keras.layers.Dense(10, activation='relu', input_shape=(4,)),\n",
    "    #input_shape means the shape of input data,which should be a tuple,and the first element of tuple is the number of samples,the second element is the number of features\n",
    "    keras.layers.Dense(10, activation='relu'),\n",
    "    keras.layers.Dense(1)\n",
    "])\n",
    "\n",
    "model.compile(optimizer='adam', loss='mean_squared_error')\n",
    "\n",
    "# Fit the model with your data before saving\n",
    "# model.fit(X_train, y_train, epochs=10, batch_size=32)\n",
    "\n",
    "\"\"\"\n",
    "Save the entire model for testing purposes.\n",
    "\"\"\"\n",
    "model.save('my_model')"
   ]
  },
  {
   "cell_type": "code",
   "execution_count": 52,
   "metadata": {},
   "outputs": [],
   "source": [
    "#compile the model\n",
    "model.compile(optimizer='adam', loss='mean_squared_error')\n"
   ]
  },
  {
   "cell_type": "code",
   "execution_count": 53,
   "metadata": {},
   "outputs": [],
   "source": [
    "#load the model\n",
    "new_model = keras.models.load_model('my_model')\n"
   ]
  },
  {
   "cell_type": "code",
   "execution_count": 60,
   "metadata": {},
   "outputs": [],
   "source": [
    "#standardize the data before training\n",
    "scaler = StandardScaler()\n",
    "X_train = scaler.fit_transform(X_train)\n",
    "X_test = scaler.transform(X_test)\n"
   ]
  },
  {
   "cell_type": "code",
   "execution_count": 61,
   "metadata": {},
   "outputs": [
    {
     "name": "stdout",
     "output_type": "stream",
     "text": [
      "Epoch 1/30\n",
      "50/50 [==============================] - 0s 2ms/step - loss: 0.3106\n",
      "Epoch 2/30\n",
      "50/50 [==============================] - 0s 1ms/step - loss: 0.0633\n",
      "Epoch 3/30\n",
      "50/50 [==============================] - 0s 977us/step - loss: 0.0438\n",
      "Epoch 4/30\n",
      "50/50 [==============================] - 0s 977us/step - loss: 0.0338\n",
      "Epoch 5/30\n",
      "50/50 [==============================] - 0s 916us/step - loss: 0.0275\n",
      "Epoch 6/30\n",
      "50/50 [==============================] - 0s 957us/step - loss: 0.0234\n",
      "Epoch 7/30\n",
      "50/50 [==============================] - 0s 875us/step - loss: 0.0205\n",
      "Epoch 8/30\n",
      "50/50 [==============================] - 0s 916us/step - loss: 0.0182\n",
      "Epoch 9/30\n",
      "50/50 [==============================] - 0s 1ms/step - loss: 0.0163\n",
      "Epoch 10/30\n",
      "50/50 [==============================] - 0s 1ms/step - loss: 0.0149\n",
      "Epoch 11/30\n",
      "50/50 [==============================] - 0s 1ms/step - loss: 0.0138\n",
      "Epoch 12/30\n",
      "50/50 [==============================] - 0s 997us/step - loss: 0.0128\n",
      "Epoch 13/30\n",
      "50/50 [==============================] - 0s 997us/step - loss: 0.0120\n",
      "Epoch 14/30\n",
      "50/50 [==============================] - 0s 977us/step - loss: 0.0112\n",
      "Epoch 15/30\n",
      "50/50 [==============================] - 0s 997us/step - loss: 0.0105\n",
      "Epoch 16/30\n",
      "50/50 [==============================] - 0s 1ms/step - loss: 0.0098\n",
      "Epoch 17/30\n",
      "50/50 [==============================] - 0s 1ms/step - loss: 0.0093\n",
      "Epoch 18/30\n",
      "50/50 [==============================] - 0s 1ms/step - loss: 0.0088\n",
      "Epoch 19/30\n",
      "50/50 [==============================] - 0s 1ms/step - loss: 0.0083\n",
      "Epoch 20/30\n",
      "50/50 [==============================] - 0s 2ms/step - loss: 0.0079\n",
      "Epoch 21/30\n",
      "50/50 [==============================] - 0s 2ms/step - loss: 0.0076\n",
      "Epoch 22/30\n",
      "50/50 [==============================] - 0s 1ms/step - loss: 0.0072\n",
      "Epoch 23/30\n",
      "50/50 [==============================] - 0s 1ms/step - loss: 0.0069\n",
      "Epoch 24/30\n",
      "50/50 [==============================] - 0s 1ms/step - loss: 0.0066\n",
      "Epoch 25/30\n",
      "50/50 [==============================] - 0s 1ms/step - loss: 0.0063\n",
      "Epoch 26/30\n",
      "50/50 [==============================] - 0s 1ms/step - loss: 0.0061\n",
      "Epoch 27/30\n",
      "50/50 [==============================] - 0s 1ms/step - loss: 0.0060\n",
      "Epoch 28/30\n",
      "50/50 [==============================] - 0s 1ms/step - loss: 0.0057\n",
      "Epoch 29/30\n",
      "50/50 [==============================] - 0s 1ms/step - loss: 0.0054\n",
      "Epoch 30/30\n",
      "50/50 [==============================] - 0s 1ms/step - loss: 0.0053\n"
     ]
    },
    {
     "data": {
      "text/plain": [
       "<keras.src.callbacks.History at 0x18a848dbd90>"
      ]
     },
     "execution_count": 61,
     "metadata": {},
     "output_type": "execute_result"
    }
   ],
   "source": [
    "#train the model\n",
    "new_model.fit(X_train, y_train, epochs=30, batch_size=32)"
   ]
  },
  {
   "cell_type": "code",
   "execution_count": 62,
   "metadata": {},
   "outputs": [
    {
     "data": {
      "text/plain": [
       "[<matplotlib.lines.Line2D at 0x18a81967dc0>]"
      ]
     },
     "execution_count": 62,
     "metadata": {},
     "output_type": "execute_result"
    },
    {
     "data": {
      "image/png": "[encoded data removed]",
      "text/plain": [
       "<Figure size 640x480 with 1 Axes>"
      ]
     },
     "metadata": {},
     "output_type": "display_data"
    }
   ],
   "source": [
    "#plot the loss\n",
    "plt.plot(new_model.history.history['loss'])"
   ]
  },
  {
   "cell_type": "code",
   "execution_count": 59,
   "metadata": {},
   "outputs": [
    {
     "name": "stdout",
     "output_type": "stream",
     "text": [
      "13/13 [==============================] - 0s 1ms/step - loss: 0.0058\n"
     ]
    },
    {
     "data": {
      "text/plain": [
       "0.005775477271527052"
      ]
     },
     "execution_count": 59,
     "metadata": {},
     "output_type": "execute_result"
    }
   ],
   "source": [
    "#evaluate the model\n",
    "new_model.evaluate(X_test, y_test)"
   ]
  },
  {
   "cell_type": "code",
   "execution_count": 63,
   "metadata": {},
   "outputs": [
    {
     "name": "stdout",
     "output_type": "stream",
     "text": [
      "13/13 [==============================] - 0s 1ms/step\n"
     ]
    },
    {
     "data": {
      "text/plain": [
       "[array([[ 0.11346062,  0.24075155,  0.5518948 ,  0.40368834, -0.01559483,\n",
       "          0.71521527, -0.43323275,  0.6090013 , -0.14269264, -0.13398936],\n",
       "        [-0.5423088 ,  0.31206727, -0.5730263 , -0.5218922 ,  0.47118574,\n",
       "         -0.6632374 ,  0.32594636, -0.0925634 ,  0.6024936 , -0.35385236],\n",
       "        [ 0.22444363, -0.48957375, -0.3566782 , -0.44656172,  0.444254  ,\n",
       "          0.22239618, -0.20543182,  0.43153986,  0.11794855, -0.315167  ],\n",
       "        [-0.34861276, -0.48062035, -0.37461156,  0.3966457 , -0.4666321 ,\n",
       "          0.203971  , -0.17294014,  0.03910248,  0.3302488 , -0.03031142]],\n",
       "       dtype=float32),\n",
       " array([ 0.1624369 , -0.00185744,  0.01797614, -0.02862004, -0.14804351,\n",
       "         0.01115569, -0.09899286,  0.06045477, -0.2944576 ,  0.11274003],\n",
       "       dtype=float32),\n",
       " array([[-0.18924765,  0.4281581 ,  0.19344603,  0.60350174, -0.40689498,\n",
       "         -0.1484745 , -0.4567348 , -0.06926588,  0.13333277, -0.01675772],\n",
       "        [-0.10124873, -0.47502065, -0.37059692, -0.4990049 , -0.21111563,\n",
       "          0.1646022 , -0.5284395 , -0.3868625 ,  0.47656852, -0.29832426],\n",
       "        [ 0.6167411 ,  0.5774049 , -0.03158767,  0.4177257 ,  0.38919693,\n",
       "         -0.07559361,  0.1909349 ,  0.28438905, -0.21675873, -0.35195133],\n",
       "        [ 0.4784107 ,  0.0515157 ,  0.07819445,  0.38117003,  0.17766556,\n",
       "         -0.02283525, -0.26063377,  0.29491666, -0.01845826, -0.10977265],\n",
       "        [-0.13603985, -0.08634999,  0.29893368,  0.14327565,  0.14306794,\n",
       "          0.3927233 ,  0.09810589,  0.43708938, -0.20622963,  0.34580848],\n",
       "        [ 0.4810842 ,  0.7114611 ,  0.17266783, -0.14347148, -0.43608078,\n",
       "         -0.08620766,  0.19149609,  0.01479579,  0.4301137 , -0.35741156],\n",
       "        [-0.93393695,  0.22385722,  0.09943832,  0.35844702, -0.05033366,\n",
       "          0.5736262 ,  0.23034754, -0.40546724, -0.7448692 ,  0.72157246],\n",
       "        [-0.43675992,  0.4788091 ,  0.26300845,  0.02079109, -0.04333157,\n",
       "         -0.42160246,  0.063967  ,  0.06728029,  0.01267859,  0.42383876],\n",
       "        [ 0.26239547,  0.21974595, -0.56149286,  0.17969713, -0.42355838,\n",
       "          0.3347758 ,  0.38150465,  0.30530316, -0.38239387,  0.04234074],\n",
       "        [-0.35558063,  0.1923672 ,  0.04577022,  0.34257317, -0.52799624,\n",
       "          0.6207635 ,  0.2004966 ,  0.44075426,  0.03434798, -0.19603153]],\n",
       "       dtype=float32),\n",
       " array([ 0.31836566,  0.0334311 , -0.02375744, -0.05272663, -0.09252208,\n",
       "        -0.08666568, -0.11645495,  0.0445997 ,  0.28296387,  0.16377728],\n",
       "       dtype=float32),\n",
       " array([[ 0.2641377 ],\n",
       "        [ 0.9676202 ],\n",
       "        [-0.5522849 ],\n",
       "        [-0.5018509 ],\n",
       "        [-0.6157101 ],\n",
       "        [-0.3640711 ],\n",
       "        [-0.7422437 ],\n",
       "        [ 0.52286124],\n",
       "        [ 0.7408159 ],\n",
       "        [ 0.38734797]], dtype=float32),\n",
       " array([0.11738262], dtype=float32)]"
      ]
     },
     "execution_count": 63,
     "metadata": {},
     "output_type": "execute_result"
    }
   ],
   "source": [
    "#there are other things you can do with the model, such as predict, get the weights, etc.\n",
    "y_pred = new_model.predict(X_test)\n",
    "new_model.get_weights()\n"
   ]
  },
  {
   "cell_type": "code",
   "execution_count": 64,
   "metadata": {},
   "outputs": [
    {
     "data": {
      "image/png": "[encoded data removed]",
      "text/plain": [
       "<Figure size 640x480 with 1 Axes>"
      ]
     },
     "metadata": {},
     "output_type": "display_data"
    }
   ],
   "source": [
    "#plot the predicted price and the true price\n",
    "plt.plot(y_test, y_pred, '.')\n",
    "plt.plot([0, 10], [0, 10], 'k-')\n",
    "plt.xlabel('True price')\n",
    "plt.ylabel('Predicted price')\n",
    "plt.show()\n"
   ]
  }
 ],
 "metadata": {
  "interpreter": {
   "hash": "80dcdc91249fc3fab8657284d8139e82cc4a9c74bd5cf4336dd2638b05b6c118"
  },
  "kernelspec": {
   "display_name": "Python 3 (ipykernel)",
   "language": "python",
   "name": "python3"
  },
  "language_info": {
   "codemirror_mode": {
    "name": "ipython",
    "version": 3
   },
   "file_extension": ".py",
   "mimetype": "text/x-python",
   "name": "python",
   "nbconvert_exporter": "python",
   "pygments_lexer": "ipython3",
   "version": "3.8.0"
  }
 },
 "nbformat": 4,
 "nbformat_minor": 4
}
